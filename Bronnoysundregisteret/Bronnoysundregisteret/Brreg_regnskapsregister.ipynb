{
 "cells": [
  {
   "cell_type": "code",
   "execution_count": 5,
   "id": "a91635d0-692b-48df-af29-41dba6d03211",
   "metadata": {},
   "outputs": [
    {
     "name": "stdout",
     "output_type": "stream",
     "text": [
      "<ArrayList><item><id>5415737</id><journalnr>2024741804</journalnr><regnskapstype>SELSKAP</regnskapstype><virksomhet><organisasjonsnummer>874383562</organisasjonsnummer><organisasjonsform>AS</organisasjonsform><morselskap>false</morselskap></virksomhet><regnskapsperiode><fraDato>2023-01-01</fraDato><tilDato>2023-12-31</tilDato></regnskapsperiode><valuta>NOK</valuta><avviklingsregnskap>false</avviklingsregnskap><oppstillingsplan>store</oppstillingsplan><revisjon><ikkeRevidertAarsregnskap>false</ikkeRevidertAarsregnskap><fravalgRevisjon>false</fravalgRevisjon></revisjon><regnkapsprinsipper><smaaForetak>true</smaaForetak><regnskapsregler>regnskapslovenAlminneligRegler</regnskapsregler></regnkapsprinsipper><egenkapitalGjeld><sumEgenkapitalGjeld>7471397.00</sumEgenkapitalGjeld><egenkapital><sumEgenkapital>3620340.00</sumEgenkapital><opptjentEgenkapital><sumOpptjentEgenkapital>3338369.00</sumOpptjentEgenkapital></opptjentEgenkapital><innskuttEgenkapital><sumInnskuttEgenkaptial>281971.00</sumInnskuttEgenkaptial></innskuttEgenkapital></egenkapital><gjeldOversikt><sumGjeld>3851057.00</sumGjeld><kortsiktigGjeld><sumKortsiktigGjeld>3015890.00</sumKortsiktigGjeld></kortsiktigGjeld><langsiktigGjeld><sumLangsiktigGjeld>835167.00</sumLangsiktigGjeld></langsiktigGjeld></gjeldOversikt></egenkapitalGjeld><eiendeler><sumEiendeler>7471397.00</sumEiendeler><omloepsmidler><sumOmloepsmidler>1326383.00</sumOmloepsmidler></omloepsmidler><anleggsmidler><sumAnleggsmidler>6145015.00</sumAnleggsmidler></anleggsmidler></eiendeler><resultatregnskapResultat><ordinaertResultatFoerSkattekostnad>2295479.00</ordinaertResultatFoerSkattekostnad><aarsresultat>1789315.00</aarsresultat><totalresultat>1789315.00</totalresultat><finansresultat><nettoFinans>87291.00</nettoFinans><finansinntekt><sumFinansinntekter>179800.00</sumFinansinntekter></finansinntekt><finanskostnad><sumFinanskostnad>92509.00</sumFinanskostnad></finanskostnad></finansresultat><driftsresultat><driftsresultat>2208188.00</driftsresultat><driftsinntekter><sumDriftsinntekter>28725566.00</sumDriftsinntekter></driftsinntekter><driftskostnad><sumDriftskostnad>26517378.00</sumDriftskostnad></driftskostnad></driftsresultat></resultatregnskapResultat></item></ArrayList>\n"
     ]
    }
   ],
   "source": [
    "import requests\n",
    "\n",
    "def get_company_financial_data(orgnr, year, regnskapstype=\"SELSKAP\"):\n",
    "    url = f\"https://data.brreg.no/regnskapsregisteret/regnskap/{orgnr}\"\n",
    "    params = {\n",
    "        'år': year,\n",
    "        'regnskapstype': regnskapstype\n",
    "    }\n",
    "    \n",
    "    headers = {'accept': 'application/xml'}\n",
    "    \n",
    "    # Send forespørselen til API-et\n",
    "    response = requests.get(url, headers=headers, params=params)\n",
    "    \n",
    "    if response.status_code == 200:\n",
    "        return response.text  # Returner XML-data\n",
    "    else:\n",
    "        return f\"Feil: {response.status_code}, melding: {response.text}\"\n",
    "\n",
    "# Eksempel på bruk\n",
    "organisasjonsnummer = \"874383562\"  # Sett inn organisasjonsnummeret til selskapet\n",
    "år = 2023  # Sett ønsket år\n",
    "data = get_company_financial_data(organisasjonsnummer, år)\n",
    "\n",
    "print(data)\n"
   ]
  },
  {
   "cell_type": "code",
   "execution_count": 6,
   "id": "4749ddbe-cc5e-4ac9-93f5-8d80dec79e89",
   "metadata": {},
   "outputs": [
    {
     "name": "stdout",
     "output_type": "stream",
     "text": [
      "Organisasjonsnummer: 874383562, Driftsresultat: 2208188.00\n"
     ]
    }
   ],
   "source": [
    "import requests\n",
    "import xml.etree.ElementTree as ET\n",
    "\n",
    "def get_company_financial_data(orgnr, year, regnskapstype=\"SELSKAP\"):\n",
    "    url = f\"https://data.brreg.no/regnskapsregisteret/regnskap/{orgnr}\"\n",
    "    params = {\n",
    "        'år': year,\n",
    "        'regnskapstype': regnskapstype\n",
    "    }\n",
    "    \n",
    "    headers = {'accept': 'application/xml'}\n",
    "    \n",
    "    # Send forespørselen til API-et\n",
    "    response = requests.get(url, headers=headers, params=params)\n",
    "    \n",
    "    if response.status_code == 200:\n",
    "        return response.text  # Returner XML-data\n",
    "    else:\n",
    "        return f\"Feil: {response.status_code}, melding: {response.text}\"\n",
    "\n",
    "def extract_orgnr_and_driftsresultat(xml_data):\n",
    "    root = ET.fromstring(xml_data)\n",
    "    \n",
    "    # Hent organisasjonsnummer\n",
    "    orgnr = root.find('.//virksomhet/organisasjonsnummer').text\n",
    "    \n",
    "    # Hent driftsresultat\n",
    "    driftsresultat = root.find('.//driftsresultat/driftsresultat').text\n",
    "    \n",
    "    return orgnr, driftsresultat\n",
    "\n",
    "# Eksempel på bruk\n",
    "organisasjonsnummer = \"874383562\"  # Sett inn organisasjonsnummeret til selskapet\n",
    "år = 2022  # Sett ønsket år\n",
    "xml_data = get_company_financial_data(organisasjonsnummer, år)\n",
    "\n",
    "if xml_data.startswith(\"Feil\"):\n",
    "    print(xml_data)\n",
    "else:\n",
    "    orgnr, driftsresultat = extract_orgnr_and_driftsresultat(xml_data)\n",
    "    print(f\"Organisasjonsnummer: {orgnr}, Driftsresultat: {driftsresultat}\")\n"
   ]
  },
  {
   "cell_type": "code",
   "execution_count": null,
   "id": "4cb2a468-57b9-46db-81f8-3e69bcf9c42f",
   "metadata": {},
   "outputs": [],
   "source": []
  }
 ],
 "metadata": {
  "kernelspec": {
   "display_name": "Python 3 (ipykernel)",
   "language": "python",
   "name": "python3"
  },
  "language_info": {
   "codemirror_mode": {
    "name": "ipython",
    "version": 3
   },
   "file_extension": ".py",
   "mimetype": "text/x-python",
   "name": "python",
   "nbconvert_exporter": "python",
   "pygments_lexer": "ipython3",
   "version": "3.11.7"
  }
 },
 "nbformat": 4,
 "nbformat_minor": 5
}
